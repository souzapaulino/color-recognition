{
  "cells": [
    {
      "cell_type": "markdown",
      "metadata": {
        "id": "view-in-github",
        "colab_type": "text"
      },
      "source": [
        "<a href=\"https://colab.research.google.com/github/souzapaulino/color-recognition/blob/develop/reconhecimento_cores_redes_neurais_convolucionais.ipynb\" target=\"_parent\"><img src=\"https://colab.research.google.com/assets/colab-badge.svg\" alt=\"Open In Colab\"/></a>"
      ]
    },
    {
      "cell_type": "markdown",
      "metadata": {
        "id": "ImTf6G7M-GHk"
      },
      "source": [
        "\n",
        "# Reconhecimento de cores com Redes Neurais Convolucionais\n",
        "#### Deep Learning Book (www.deeplearningbook.com.br) Capítulo 47"
      ]
    },
    {
      "cell_type": "markdown",
      "metadata": {
        "id": "aMJnKy5l-GHs"
      },
      "source": [
        "## Introdução\n",
        "\n",
        "Problema: Dada uma imagem, definir qual a cor pertence a classe especifica. \n",
        "\n",
        "Usaremos, portanto, uma abordagem de aprendizagem supervisionada, onde apresentaremos ao algoritmo diversas imagens, devidamente marcadas com suas cores e então treinaremos o algoritmo. Ao final do treinamento, teremos um modelo que poderá receber novas imagens (desta vez não marcadas previamente) e então o modelo deverá ser capaz de classificar qual a cor pertencente aquela classe.\n",
        "\n",
        "Para essa tarefa, usaremos uma arquitetura de Rede Neural Convolucional. Essa arquitetura usa métodos de convolução para poder prever características específicas de uma imagem de acordo com o que aprende em um conjunto de treinamento."
      ]
    },
    {
      "cell_type": "markdown",
      "metadata": {
        "id": "uWR-lzTx-GHu"
      },
      "source": [
        "## Definição dos Dados\n",
        "\n",
        "Temoss os seguintes dados:\n",
        "\n",
        "Conjunto de dados de treino:\n",
        "\n",
        "Conjunto de dados de validação:\n",
        "\n",
        "Conjunto de dados de teste:\n",
        "\n",
        "Usamos os dados de treino para treinar o algoritmo e então criar o modelo preditivo. Usamos os dados de validação, para avaliar o modelo durante o treinamento. Usamos os dados de teste para validar a performance do modelo já treinado, ou seja, apresentamos ao modelo dados que ele não viu durante o treinamento, a fim de garantir que ele é capaz de fazer previsões."
      ]
    },
    {
      "cell_type": "markdown",
      "metadata": {
        "id": "FDkR0B0f-GHv"
      },
      "source": [
        "## Carregando os Dados"
      ]
    },
    {
      "cell_type": "code",
      "source": [
        "from google.colab import drive\n",
        "drive.mount('/content/drive')"
      ],
      "metadata": {
        "colab": {
          "base_uri": "https://localhost:8080/"
        },
        "id": "gcJDddHO_RaY",
        "outputId": "49aacf98-a0de-4d26-9022-26963d0a222c"
      },
      "execution_count": 1,
      "outputs": [
        {
          "output_type": "stream",
          "name": "stdout",
          "text": [
            "Mounted at /content/drive\n"
          ]
        }
      ]
    },
    {
      "cell_type": "code",
      "source": [
        "%cd drive/MyDrive/Projeto_Alanne/\n",
        "%ls dataset/teste"
      ],
      "metadata": {
        "colab": {
          "base_uri": "https://localhost:8080/"
        },
        "id": "aCcpanMy_pqs",
        "outputId": "98e7f627-ab57-40c1-8192-20c07d67cec8"
      },
      "execution_count": 2,
      "outputs": [
        {
          "output_type": "stream",
          "name": "stdout",
          "text": [
            "/content/drive/MyDrive/Projeto_Alanne\n",
            "\u001b[0m\u001b[01;34m0\u001b[0m/  \u001b[01;34m12\u001b[0m/  \u001b[01;34m24\u001b[0m/  \u001b[01;34m36\u001b[0m/  \u001b[01;34m48\u001b[0m/  \u001b[01;34m60\u001b[0m/\n"
          ]
        }
      ]
    },
    {
      "cell_type": "code",
      "execution_count": 3,
      "metadata": {
        "colab": {
          "base_uri": "https://localhost:8080/",
          "height": 130
        },
        "id": "VAvaIvZq-GHw",
        "outputId": "1e74e3b4-d15c-4ad4-b3df-a446e528ba74"
      },
      "outputs": [
        {
          "output_type": "execute_result",
          "data": {
            "text/plain": [
              "<IPython.core.display.Image object>"
            ],
            "image/png": "[encoded data removed]"
          },
          "metadata": {},
          "execution_count": 3
        }
      ],
      "source": [
        "from IPython.display import Image\n",
        "Image(filename = 'dataset/teste/0/A05.png')"
      ]
    },
    {
      "cell_type": "code",
      "execution_count": 4,
      "metadata": {
        "colab": {
          "base_uri": "https://localhost:8080/",
          "height": 130
        },
        "id": "zSTUNRrD-GHx",
        "outputId": "67bff122-e7b4-4527-9426-ca7c3cf282cd"
      },
      "outputs": [
        {
          "output_type": "execute_result",
          "data": {
            "text/plain": [
              "<IPython.core.display.Image object>"
            ],
            "image/png": "[encoded data removed]"
          },
          "metadata": {},
          "execution_count": 4
        }
      ],
      "source": [
        "Image(filename = 'dataset/teste/24/A05.png')"
      ]
    },
    {
      "cell_type": "code",
      "execution_count": 5,
      "metadata": {
        "colab": {
          "base_uri": "https://localhost:8080/",
          "height": 130
        },
        "id": "GTTS7DZs-GHy",
        "outputId": "0a89589c-f4ce-43f3-892b-fc127543226c"
      },
      "outputs": [
        {
          "output_type": "execute_result",
          "data": {
            "text/plain": [
              "<IPython.core.display.Image object>"
            ],
            "image/png": "[encoded data removed]"
          },
          "metadata": {},
          "execution_count": 5
        }
      ],
      "source": [
        "Image(filename = 'dataset/teste/60/A05.png')"
      ]
    },
    {
      "cell_type": "markdown",
      "metadata": {
        "id": "oagX09i7-GH-"
      },
      "source": [
        "### Pré-Processamento"
      ]
    },
    {
      "cell_type": "markdown",
      "metadata": {
        "id": "jKEoZQ0P-GH-"
      },
      "source": [
        "Antes de realizar o treinamento é preciso fazer o pré-processamento nos dados, em nosso caso as imagens. Para essa tarefa, vamos usar a função ImageDataGenerator() do Keras e ajustar escala e zoom das imagens de treino e a escala das imagens de validação.\n",
        "\n",
        "O pré-processamento dos dados é etapa crucial em qualquer projeto de Machine Learning e muitas técnicas podem ser usadas, sempre de acordo com os dados em mãos e o problema que estamos tentando resolver. Nos cursos da Data Science Academy ensinamos aos alunos uma variedade de técnicas."
      ]
    },
    {
      "cell_type": "code",
      "execution_count": 6,
      "metadata": {
        "id": "9XIaiPes-GH_"
      },
      "outputs": [],
      "source": [
        "# Criando os objetos train_datagen e validation_datagen com as regras de pré-processamento das imagens\n",
        "from keras.preprocessing.image import ImageDataGenerator\n",
        "\n",
        "train_datagen = ImageDataGenerator(rescale = 1./255,\n",
        "                                   shear_range = 0.2,\n",
        "                                   zoom_range = 0.2,\n",
        "                                   horizontal_flip = True)\n",
        "\n",
        "validation_datagen = ImageDataGenerator(rescale = 1./255)\n"
      ]
    },
    {
      "cell_type": "markdown",
      "metadata": {
        "id": "4vpHh6-T-GH_"
      },
      "source": [
        "Aplicamos então os dois objetos criados anteriormente para pré-processar os dados de treino e de validação. Lembre-se: o tratamento aplicado aos dados de validação deve ser o mesmo tratamento aplicado aos dados de treino."
      ]
    },
    {
      "cell_type": "code",
      "execution_count": 7,
      "metadata": {
        "colab": {
          "base_uri": "https://localhost:8080/"
        },
        "id": "x_44wJnc-GIA",
        "outputId": "5a7c4133-1ab8-49d5-eadd-74a33d84f7dd"
      },
      "outputs": [
        {
          "output_type": "stream",
          "name": "stdout",
          "text": [
            "Found 144 images belonging to 6 classes.\n",
            "Found 18 images belonging to 6 classes.\n"
          ]
        }
      ],
      "source": [
        "# Pré-processamento das imagens de treino e validação\n",
        "training_set = train_datagen.flow_from_directory('dataset/trein',\n",
        "                                                 target_size = (64, 64),\n",
        "                                                 batch_size = 16,\n",
        "                                                 class_mode = 'categorical')\n",
        "\n",
        "validation_set = validation_datagen.flow_from_directory('dataset/valid',\n",
        "                                                        target_size = (64, 64),\n",
        "                                                        batch_size = 16,\n",
        "                                                        class_mode = 'categorical')"
      ]
    },
    {
      "cell_type": "markdown",
      "metadata": {
        "id": "raUxuwI_-GH0"
      },
      "source": [
        "## Construindo a Rede Neural Convolucional\n",
        "\n",
        "Nossa rede é uma sequência de camadas e podemos usar o modelo sequencial oferecido pelo Keras, que possui as funções necessárias para construir cada camada de uma rede neural convolucional.\n",
        "\n",
        "O primeiro passo é carregar os pacotes necessários, o que é feito nas células abaixo.\n",
        "\n",
        "O Keras utiliza o TensorFlow como backend, pois na prática o Keras é apenas uma biblioteca para simplificar a complexidade do TensorFlow. Aqui estão as versões utilizadas:"
      ]
    },
    {
      "cell_type": "code",
      "source": [
        "from tensorflow.keras.models import Sequential\n",
        "from tensorflow.keras import models\n",
        "from tensorflow.keras.layers import Conv2D, Dense, Activation, Flatten, Dense, MaxPool2D, Dropout, GlobalAveragePooling2D, BatchNormalization\n",
        "from tensorflow.keras.utils import to_categorical\n",
        "from sklearn.preprocessing import LabelEncoder\n",
        "from tensorflow.keras.optimizers import Adam\n",
        "from keras.utils import np_utils\n",
        "from sklearn import metrics \n",
        "\n",
        "import tensorflow as tf\n",
        "from tensorflow.keras.callbacks import ModelCheckpoint, EarlyStopping, CSVLogger, ReduceLROnPlateau"
      ],
      "metadata": {
        "id": "zmxXEezrBiZl"
      },
      "execution_count": 8,
      "outputs": []
    },
    {
      "cell_type": "code",
      "source": [
        "IMG_SHAPE = (64,64,3)\n",
        "base_model = tf.keras.applications.MobileNetV2(input_shape=IMG_SHAPE,\n",
        "                                               include_top=False,\n",
        "                                               weights='imagenet')"
      ],
      "metadata": {
        "id": "SS6urMLUCM7j",
        "colab": {
          "base_uri": "https://localhost:8080/"
        },
        "outputId": "15d8b83a-a86e-4990-abe5-d5594b4c55f7"
      },
      "execution_count": 9,
      "outputs": [
        {
          "output_type": "stream",
          "name": "stdout",
          "text": [
            "WARNING:tensorflow:`input_shape` is undefined or non-square, or `rows` is not in [96, 128, 160, 192, 224]. Weights for input shape (224, 224) will be loaded as the default.\n",
            "Downloading data from https://storage.googleapis.com/tensorflow/keras-applications/mobilenet_v2/mobilenet_v2_weights_tf_dim_ordering_tf_kernels_1.0_224_no_top.h5\n",
            "9412608/9406464 [==============================] - 0s 0us/step\n",
            "9420800/9406464 [==============================] - 0s 0us/step\n"
          ]
        }
      ]
    },
    {
      "cell_type": "code",
      "source": [
        "base_model.trainable = False"
      ],
      "metadata": {
        "id": "UmMXBWdvCvZs"
      },
      "execution_count": 10,
      "outputs": []
    },
    {
      "cell_type": "code",
      "source": [
        "modelMobileNET = Sequential(\n",
        "    [\n",
        "        base_model,\n",
        "        GlobalAveragePooling2D(),\n",
        "        Dropout(0.3),\n",
        "        Dense(128, activation=\"relu\"),\n",
        "        Dropout(0.3),\n",
        "        Dense(6, activation=\"softmax\"),\n",
        "    ]\n",
        ")"
      ],
      "metadata": {
        "id": "fWVRC3OfCyKh"
      },
      "execution_count": 11,
      "outputs": []
    },
    {
      "cell_type": "code",
      "source": [
        "modelMobileNET.summary()"
      ],
      "metadata": {
        "colab": {
          "base_uri": "https://localhost:8080/"
        },
        "id": "CIPyTzOdC3yx",
        "outputId": "a8d5d970-bbd0-4029-a944-11d1fa264d2f"
      },
      "execution_count": 12,
      "outputs": [
        {
          "output_type": "stream",
          "name": "stdout",
          "text": [
            "Model: \"sequential\"\n",
            "_________________________________________________________________\n",
            " Layer (type)                Output Shape              Param #   \n",
            "=================================================================\n",
            " mobilenetv2_1.00_224 (Funct  (None, 2, 2, 1280)       2257984   \n",
            " ional)                                                          \n",
            "                                                                 \n",
            " global_average_pooling2d (G  (None, 1280)             0         \n",
            " lobalAveragePooling2D)                                          \n",
            "                                                                 \n",
            " dropout (Dropout)           (None, 1280)              0         \n",
            "                                                                 \n",
            " dense (Dense)               (None, 128)               163968    \n",
            "                                                                 \n",
            " dropout_1 (Dropout)         (None, 128)               0         \n",
            "                                                                 \n",
            " dense_1 (Dense)             (None, 6)                 774       \n",
            "                                                                 \n",
            "=================================================================\n",
            "Total params: 2,422,726\n",
            "Trainable params: 164,742\n",
            "Non-trainable params: 2,257,984\n",
            "_________________________________________________________________\n"
          ]
        }
      ]
    },
    {
      "cell_type": "markdown",
      "metadata": {
        "id": "0sHmNE_R-GH-"
      },
      "source": [
        "## Treinando a Rede Neural Convolucional"
      ]
    },
    {
      "cell_type": "markdown",
      "metadata": {
        "id": "PEATN-hy-GIA"
      },
      "source": [
        "### Treinamento"
      ]
    },
    {
      "cell_type": "markdown",
      "metadata": {
        "id": "aVF8hj9d-GIA"
      },
      "source": [
        "Usaremos 8000 passos em nosso conjunto de treinamento para cada época. Escolhemos 2000 etapas de validação para as imagens de validação. \n",
        "\n",
        "*Adicionalmente:* O treinamento foi realizado considerando 1000 épocas mas com critério de parada antecipado caso a curva de aprendizagem alcance o platô (acurácia da validação com 30 épocas sem melhorar resultados)"
      ]
    },
    {
      "cell_type": "code",
      "source": [
        "base_learning_rate = 0.001\n",
        "modelMobileNET.compile(optimizer=tf.keras.optimizers.Adam(learning_rate=base_learning_rate),\n",
        "              loss=tf.keras.losses.BinaryCrossentropy(from_logits=True),\n",
        "              metrics=['accuracy'])"
      ],
      "metadata": {
        "id": "l_aiVGX5WU5C"
      },
      "execution_count": 13,
      "outputs": []
    },
    {
      "cell_type": "code",
      "source": [
        "reduce_lr = ReduceLROnPlateau(monitor='val_accuracy', factor=0.2,\n",
        "                              patience=20, min_lr=0.1, verbose=1)\n",
        "\n",
        "earlystop = EarlyStopping(monitor='val_accuracy',\n",
        "                          min_delta=.0001,\n",
        "                          patience=30,\n",
        "                          verbose=1,\n",
        "                          mode='auto',\n",
        "                          baseline=None,\n",
        "                          restore_best_weights=True)"
      ],
      "metadata": {
        "id": "hnzyHppWWYj4"
      },
      "execution_count": 14,
      "outputs": []
    },
    {
      "cell_type": "code",
      "source": [
        "from keras.callbacks import ModelCheckpoint  \n",
        "from datetime import datetime \n",
        "\n",
        "num_epochs = 1000\n",
        "num_batch_size = 64\n",
        "\n",
        "start = datetime.now()\n",
        "\n",
        "history =  modelMobileNET.fit(training_set, batch_size=num_batch_size,epochs=num_epochs, validation_data=validation_set,\n",
        "                     callbacks=[\n",
        "                                EarlyStopping(patience=30, monitor=\"val_loss\", verbose=1), reduce_lr\n",
        "                                ])\n",
        "\n",
        "duration = datetime.now() - start\n",
        "print(\"Training completed in time: \", duration)"
      ],
      "metadata": {
        "colab": {
          "base_uri": "https://localhost:8080/"
        },
        "id": "KSxDjT0yWbXA",
        "outputId": "bba66849-0466-484f-a9b8-4860356a7fa6"
      },
      "execution_count": 15,
      "outputs": [
        {
          "output_type": "stream",
          "name": "stdout",
          "text": [
            "Epoch 1/1000\n"
          ]
        },
        {
          "output_type": "stream",
          "name": "stderr",
          "text": [
            "/usr/local/lib/python3.7/dist-packages/tensorflow/python/util/dispatch.py:1082: UserWarning: \"`binary_crossentropy` received `from_logits=True`, but the `output` argument was produced by a sigmoid or softmax activation and thus does not represent logits. Was this intended?\"\n",
            "  return dispatch_target(*args, **kwargs)\n"
          ]
        },
        {
          "output_type": "stream",
          "name": "stdout",
          "text": [
            "9/9 [==============================] - 72s 7s/step - loss: 0.6104 - accuracy: 0.2222 - val_loss: 0.4417 - val_accuracy: 0.3333 - lr: 0.0010\n",
            "Epoch 2/1000\n",
            "9/9 [==============================] - 1s 70ms/step - loss: 0.4408 - accuracy: 0.3403 - val_loss: 0.3888 - val_accuracy: 0.2778 - lr: 0.0010\n",
            "Epoch 3/1000\n",
            "9/9 [==============================] - 1s 60ms/step - loss: 0.4187 - accuracy: 0.2847 - val_loss: 0.3941 - val_accuracy: 0.2778 - lr: 0.0010\n",
            "Epoch 4/1000\n",
            "9/9 [==============================] - 1s 60ms/step - loss: 0.4025 - accuracy: 0.4514 - val_loss: 0.3725 - val_accuracy: 0.2778 - lr: 0.0010\n",
            "Epoch 5/1000\n",
            "9/9 [==============================] - 1s 61ms/step - loss: 0.3722 - accuracy: 0.4444 - val_loss: 0.3542 - val_accuracy: 0.4444 - lr: 0.0010\n",
            "Epoch 6/1000\n",
            "9/9 [==============================] - 1s 78ms/step - loss: 0.3724 - accuracy: 0.4583 - val_loss: 0.3392 - val_accuracy: 0.5556 - lr: 0.0010\n",
            "Epoch 7/1000\n",
            "9/9 [==============================] - 1s 90ms/step - loss: 0.3533 - accuracy: 0.4444 - val_loss: 0.3397 - val_accuracy: 0.6111 - lr: 0.0010\n",
            "Epoch 8/1000\n",
            "9/9 [==============================] - 1s 60ms/step - loss: 0.3614 - accuracy: 0.4306 - val_loss: 0.3322 - val_accuracy: 0.3889 - lr: 0.0010\n",
            "Epoch 9/1000\n",
            "9/9 [==============================] - 1s 59ms/step - loss: 0.3332 - accuracy: 0.4792 - val_loss: 0.3527 - val_accuracy: 0.3889 - lr: 0.0010\n",
            "Epoch 10/1000\n",
            "9/9 [==============================] - 1s 61ms/step - loss: 0.3174 - accuracy: 0.5347 - val_loss: 0.3169 - val_accuracy: 0.6111 - lr: 0.0010\n",
            "Epoch 11/1000\n",
            "9/9 [==============================] - 1s 62ms/step - loss: 0.3271 - accuracy: 0.5278 - val_loss: 0.3127 - val_accuracy: 0.6111 - lr: 0.0010\n",
            "Epoch 12/1000\n",
            "9/9 [==============================] - 1s 63ms/step - loss: 0.3188 - accuracy: 0.5556 - val_loss: 0.3093 - val_accuracy: 0.5000 - lr: 0.0010\n",
            "Epoch 13/1000\n",
            "9/9 [==============================] - 1s 69ms/step - loss: 0.3238 - accuracy: 0.5139 - val_loss: 0.2865 - val_accuracy: 0.6667 - lr: 0.0010\n",
            "Epoch 14/1000\n",
            "9/9 [==============================] - 1s 84ms/step - loss: 0.3215 - accuracy: 0.5069 - val_loss: 0.2888 - val_accuracy: 0.6111 - lr: 0.0010\n",
            "Epoch 15/1000\n",
            "9/9 [==============================] - 1s 90ms/step - loss: 0.3092 - accuracy: 0.5347 - val_loss: 0.2833 - val_accuracy: 0.6667 - lr: 0.0010\n",
            "Epoch 16/1000\n",
            "9/9 [==============================] - 1s 59ms/step - loss: 0.3021 - accuracy: 0.5694 - val_loss: 0.2878 - val_accuracy: 0.6667 - lr: 0.0010\n",
            "Epoch 17/1000\n",
            "9/9 [==============================] - 1s 61ms/step - loss: 0.2892 - accuracy: 0.6111 - val_loss: 0.2828 - val_accuracy: 0.6667 - lr: 0.0010\n",
            "Epoch 18/1000\n",
            "9/9 [==============================] - 1s 62ms/step - loss: 0.2859 - accuracy: 0.6111 - val_loss: 0.2786 - val_accuracy: 0.6667 - lr: 0.0010\n",
            "Epoch 19/1000\n",
            "9/9 [==============================] - 1s 62ms/step - loss: 0.3002 - accuracy: 0.5903 - val_loss: 0.2815 - val_accuracy: 0.7222 - lr: 0.0010\n",
            "Epoch 20/1000\n",
            "9/9 [==============================] - 1s 60ms/step - loss: 0.2967 - accuracy: 0.5417 - val_loss: 0.2732 - val_accuracy: 0.7222 - lr: 0.0010\n",
            "Epoch 21/1000\n",
            "9/9 [==============================] - 1s 59ms/step - loss: 0.2953 - accuracy: 0.5069 - val_loss: 0.2660 - val_accuracy: 0.6111 - lr: 0.0010\n",
            "Epoch 22/1000\n",
            "9/9 [==============================] - 1s 62ms/step - loss: 0.3020 - accuracy: 0.5000 - val_loss: 0.2734 - val_accuracy: 0.6667 - lr: 0.0010\n",
            "Epoch 23/1000\n",
            "9/9 [==============================] - 1s 63ms/step - loss: 0.2931 - accuracy: 0.5694 - val_loss: 0.2513 - val_accuracy: 0.7222 - lr: 0.0010\n",
            "Epoch 24/1000\n",
            "9/9 [==============================] - 1s 64ms/step - loss: 0.2720 - accuracy: 0.6111 - val_loss: 0.2640 - val_accuracy: 0.6667 - lr: 0.0010\n",
            "Epoch 25/1000\n",
            "9/9 [==============================] - 1s 62ms/step - loss: 0.2929 - accuracy: 0.5278 - val_loss: 0.2741 - val_accuracy: 0.6667 - lr: 0.0010\n",
            "Epoch 26/1000\n",
            "9/9 [==============================] - 1s 65ms/step - loss: 0.2758 - accuracy: 0.5972 - val_loss: 0.2630 - val_accuracy: 0.6111 - lr: 0.0010\n",
            "Epoch 27/1000\n",
            "9/9 [==============================] - 1s 63ms/step - loss: 0.2687 - accuracy: 0.5833 - val_loss: 0.2513 - val_accuracy: 0.6667 - lr: 0.0010\n",
            "Epoch 28/1000\n",
            "9/9 [==============================] - 1s 64ms/step - loss: 0.2683 - accuracy: 0.6458 - val_loss: 0.2517 - val_accuracy: 0.6667 - lr: 0.0010\n",
            "Epoch 29/1000\n",
            "9/9 [==============================] - 1s 72ms/step - loss: 0.2673 - accuracy: 0.6250 - val_loss: 0.2493 - val_accuracy: 0.6667 - lr: 0.0010\n",
            "Epoch 30/1000\n",
            "9/9 [==============================] - 1s 64ms/step - loss: 0.2722 - accuracy: 0.6111 - val_loss: 0.2471 - val_accuracy: 0.6667 - lr: 0.0010\n",
            "Epoch 31/1000\n",
            "9/9 [==============================] - 1s 63ms/step - loss: 0.2668 - accuracy: 0.6667 - val_loss: 0.2442 - val_accuracy: 0.5556 - lr: 0.0010\n",
            "Epoch 32/1000\n",
            "9/9 [==============================] - 1s 62ms/step - loss: 0.2667 - accuracy: 0.5972 - val_loss: 0.2428 - val_accuracy: 0.6111 - lr: 0.0010\n",
            "Epoch 33/1000\n",
            "9/9 [==============================] - 1s 77ms/step - loss: 0.2460 - accuracy: 0.6458 - val_loss: 0.2430 - val_accuracy: 0.7222 - lr: 0.0010\n",
            "Epoch 34/1000\n",
            "9/9 [==============================] - 1s 71ms/step - loss: 0.2484 - accuracy: 0.6597 - val_loss: 0.2384 - val_accuracy: 0.6667 - lr: 0.0010\n",
            "Epoch 35/1000\n",
            "9/9 [==============================] - 1s 63ms/step - loss: 0.2441 - accuracy: 0.6806 - val_loss: 0.2347 - val_accuracy: 0.6111 - lr: 0.0010\n",
            "Epoch 36/1000\n",
            "9/9 [==============================] - 1s 64ms/step - loss: 0.2468 - accuracy: 0.6875 - val_loss: 0.2357 - val_accuracy: 0.8333 - lr: 0.0010\n",
            "Epoch 37/1000\n",
            "9/9 [==============================] - 1s 67ms/step - loss: 0.2489 - accuracy: 0.6389 - val_loss: 0.2312 - val_accuracy: 0.7222 - lr: 0.0010\n",
            "Epoch 38/1000\n",
            "9/9 [==============================] - 1s 63ms/step - loss: 0.2455 - accuracy: 0.6389 - val_loss: 0.2229 - val_accuracy: 0.7778 - lr: 0.0010\n",
            "Epoch 39/1000\n",
            "9/9 [==============================] - 1s 69ms/step - loss: 0.2426 - accuracy: 0.6944 - val_loss: 0.2233 - val_accuracy: 0.6111 - lr: 0.0010\n",
            "Epoch 40/1000\n",
            "9/9 [==============================] - 1s 63ms/step - loss: 0.2391 - accuracy: 0.7014 - val_loss: 0.2284 - val_accuracy: 0.6667 - lr: 0.0010\n",
            "Epoch 41/1000\n",
            "9/9 [==============================] - 1s 66ms/step - loss: 0.2536 - accuracy: 0.6597 - val_loss: 0.2168 - val_accuracy: 0.7222 - lr: 0.0010\n",
            "Epoch 42/1000\n",
            "9/9 [==============================] - 1s 67ms/step - loss: 0.2533 - accuracy: 0.6458 - val_loss: 0.2231 - val_accuracy: 0.6111 - lr: 0.0010\n",
            "Epoch 43/1000\n",
            "9/9 [==============================] - 1s 62ms/step - loss: 0.2519 - accuracy: 0.5903 - val_loss: 0.2243 - val_accuracy: 0.6667 - lr: 0.0010\n",
            "Epoch 44/1000\n",
            "9/9 [==============================] - 1s 61ms/step - loss: 0.2151 - accuracy: 0.7361 - val_loss: 0.2135 - val_accuracy: 0.7778 - lr: 0.0010\n",
            "Epoch 45/1000\n",
            "9/9 [==============================] - 1s 63ms/step - loss: 0.2393 - accuracy: 0.6667 - val_loss: 0.2227 - val_accuracy: 0.6111 - lr: 0.0010\n",
            "Epoch 46/1000\n",
            "9/9 [==============================] - 1s 65ms/step - loss: 0.2401 - accuracy: 0.6597 - val_loss: 0.2176 - val_accuracy: 0.6667 - lr: 0.0010\n",
            "Epoch 47/1000\n",
            "9/9 [==============================] - 1s 64ms/step - loss: 0.2263 - accuracy: 0.7014 - val_loss: 0.2219 - val_accuracy: 0.6667 - lr: 0.0010\n",
            "Epoch 48/1000\n",
            "9/9 [==============================] - 1s 62ms/step - loss: 0.2225 - accuracy: 0.7431 - val_loss: 0.2355 - val_accuracy: 0.6111 - lr: 0.0010\n",
            "Epoch 49/1000\n",
            "9/9 [==============================] - 1s 64ms/step - loss: 0.2327 - accuracy: 0.7014 - val_loss: 0.2165 - val_accuracy: 0.6111 - lr: 0.0010\n",
            "Epoch 50/1000\n",
            "9/9 [==============================] - 1s 59ms/step - loss: 0.2341 - accuracy: 0.7083 - val_loss: 0.2087 - val_accuracy: 0.6667 - lr: 0.0010\n",
            "Epoch 51/1000\n",
            "9/9 [==============================] - 1s 60ms/step - loss: 0.2315 - accuracy: 0.6875 - val_loss: 0.2231 - val_accuracy: 0.6111 - lr: 0.0010\n",
            "Epoch 52/1000\n",
            "9/9 [==============================] - 1s 59ms/step - loss: 0.2165 - accuracy: 0.7153 - val_loss: 0.2129 - val_accuracy: 0.7222 - lr: 0.0010\n",
            "Epoch 53/1000\n",
            "9/9 [==============================] - 1s 61ms/step - loss: 0.2265 - accuracy: 0.7083 - val_loss: 0.2053 - val_accuracy: 0.7222 - lr: 0.0010\n",
            "Epoch 54/1000\n",
            "9/9 [==============================] - 1s 62ms/step - loss: 0.2129 - accuracy: 0.7569 - val_loss: 0.2038 - val_accuracy: 0.6667 - lr: 0.0010\n",
            "Epoch 55/1000\n",
            "9/9 [==============================] - 1s 64ms/step - loss: 0.2377 - accuracy: 0.6667 - val_loss: 0.2071 - val_accuracy: 0.6667 - lr: 0.0010\n",
            "Epoch 56/1000\n",
            "9/9 [==============================] - 1s 65ms/step - loss: 0.2229 - accuracy: 0.7083 - val_loss: 0.2096 - val_accuracy: 0.7222 - lr: 0.0010\n",
            "Epoch 57/1000\n",
            "9/9 [==============================] - 1s 65ms/step - loss: 0.2116 - accuracy: 0.7292 - val_loss: 0.2110 - val_accuracy: 0.6667 - lr: 0.0010\n",
            "Epoch 58/1000\n",
            "9/9 [==============================] - 1s 62ms/step - loss: 0.2073 - accuracy: 0.7292 - val_loss: 0.2099 - val_accuracy: 0.6111 - lr: 0.0010\n",
            "Epoch 59/1000\n",
            "9/9 [==============================] - 1s 60ms/step - loss: 0.2318 - accuracy: 0.6667 - val_loss: 0.2148 - val_accuracy: 0.6667 - lr: 0.0010\n",
            "Epoch 60/1000\n",
            "9/9 [==============================] - 1s 61ms/step - loss: 0.2154 - accuracy: 0.7014 - val_loss: 0.2014 - val_accuracy: 0.7222 - lr: 0.0010\n",
            "Epoch 61/1000\n",
            "9/9 [==============================] - 1s 63ms/step - loss: 0.2251 - accuracy: 0.6944 - val_loss: 0.2086 - val_accuracy: 0.7778 - lr: 0.0010\n",
            "Epoch 62/1000\n",
            "9/9 [==============================] - 1s 62ms/step - loss: 0.2111 - accuracy: 0.7014 - val_loss: 0.2047 - val_accuracy: 0.7222 - lr: 0.0010\n",
            "Epoch 63/1000\n",
            "9/9 [==============================] - 1s 82ms/step - loss: 0.2231 - accuracy: 0.7361 - val_loss: 0.2029 - val_accuracy: 0.7222 - lr: 0.0010\n",
            "Epoch 64/1000\n",
            "9/9 [==============================] - 1s 110ms/step - loss: 0.2347 - accuracy: 0.6528 - val_loss: 0.1864 - val_accuracy: 0.7222 - lr: 0.0010\n",
            "Epoch 65/1000\n",
            "9/9 [==============================] - 1s 68ms/step - loss: 0.2265 - accuracy: 0.7431 - val_loss: 0.2168 - val_accuracy: 0.6111 - lr: 0.0010\n",
            "Epoch 66/1000\n",
            "9/9 [==============================] - 1s 61ms/step - loss: 0.1970 - accuracy: 0.7639 - val_loss: 0.2136 - val_accuracy: 0.6111 - lr: 0.0010\n",
            "Epoch 67/1000\n",
            "9/9 [==============================] - 1s 66ms/step - loss: 0.2262 - accuracy: 0.6944 - val_loss: 0.1921 - val_accuracy: 0.6667 - lr: 0.0010\n",
            "Epoch 68/1000\n",
            "9/9 [==============================] - 1s 64ms/step - loss: 0.2211 - accuracy: 0.6875 - val_loss: 0.2065 - val_accuracy: 0.6667 - lr: 0.0010\n",
            "Epoch 69/1000\n",
            "9/9 [==============================] - 1s 60ms/step - loss: 0.2058 - accuracy: 0.7500 - val_loss: 0.2065 - val_accuracy: 0.6667 - lr: 0.0010\n",
            "Epoch 70/1000\n",
            "9/9 [==============================] - 1s 60ms/step - loss: 0.2248 - accuracy: 0.6806 - val_loss: 0.1939 - val_accuracy: 0.7222 - lr: 0.0010\n",
            "Epoch 71/1000\n",
            "9/9 [==============================] - 1s 62ms/step - loss: 0.2048 - accuracy: 0.6944 - val_loss: 0.1898 - val_accuracy: 0.7778 - lr: 0.0010\n",
            "Epoch 72/1000\n",
            "9/9 [==============================] - 1s 65ms/step - loss: 0.2168 - accuracy: 0.6806 - val_loss: 0.1876 - val_accuracy: 0.7778 - lr: 0.0010\n",
            "Epoch 73/1000\n",
            "9/9 [==============================] - 1s 62ms/step - loss: 0.2085 - accuracy: 0.7361 - val_loss: 0.1775 - val_accuracy: 0.8333 - lr: 0.0010\n",
            "Epoch 74/1000\n",
            "9/9 [==============================] - 1s 85ms/step - loss: 0.2096 - accuracy: 0.7014 - val_loss: 0.1777 - val_accuracy: 0.7778 - lr: 0.0010\n",
            "Epoch 75/1000\n",
            "9/9 [==============================] - 1s 66ms/step - loss: 0.1905 - accuracy: 0.7639 - val_loss: 0.1806 - val_accuracy: 0.7778 - lr: 0.0010\n",
            "Epoch 76/1000\n",
            "9/9 [==============================] - 1s 60ms/step - loss: 0.1982 - accuracy: 0.7500 - val_loss: 0.1847 - val_accuracy: 0.7222 - lr: 0.0010\n",
            "Epoch 77/1000\n",
            "9/9 [==============================] - 1s 64ms/step - loss: 0.2152 - accuracy: 0.6875 - val_loss: 0.1765 - val_accuracy: 0.7778 - lr: 0.0010\n",
            "Epoch 78/1000\n",
            "9/9 [==============================] - 1s 63ms/step - loss: 0.2307 - accuracy: 0.6944 - val_loss: 0.1850 - val_accuracy: 0.6667 - lr: 0.0010\n",
            "Epoch 79/1000\n",
            "9/9 [==============================] - 1s 60ms/step - loss: 0.2134 - accuracy: 0.7083 - val_loss: 0.1912 - val_accuracy: 0.6111 - lr: 0.0010\n",
            "Epoch 80/1000\n",
            "9/9 [==============================] - 1s 92ms/step - loss: 0.1888 - accuracy: 0.7569 - val_loss: 0.1857 - val_accuracy: 0.7222 - lr: 0.0010\n",
            "Epoch 81/1000\n",
            "9/9 [==============================] - 1s 66ms/step - loss: 0.1980 - accuracy: 0.7847 - val_loss: 0.1864 - val_accuracy: 0.6667 - lr: 0.0010\n",
            "Epoch 82/1000\n",
            "9/9 [==============================] - 1s 101ms/step - loss: 0.2028 - accuracy: 0.7222 - val_loss: 0.1765 - val_accuracy: 0.7778 - lr: 0.0010\n",
            "Epoch 83/1000\n",
            "9/9 [==============================] - 1s 135ms/step - loss: 0.2300 - accuracy: 0.7083 - val_loss: 0.1917 - val_accuracy: 0.7222 - lr: 0.0010\n",
            "Epoch 84/1000\n",
            "9/9 [==============================] - 1s 122ms/step - loss: 0.1928 - accuracy: 0.7292 - val_loss: 0.2011 - val_accuracy: 0.6667 - lr: 0.0010\n",
            "Epoch 85/1000\n",
            "9/9 [==============================] - 1s 138ms/step - loss: 0.2153 - accuracy: 0.7431 - val_loss: 0.1857 - val_accuracy: 0.6667 - lr: 0.0010\n",
            "Epoch 86/1000\n",
            "9/9 [==============================] - 1s 162ms/step - loss: 0.2114 - accuracy: 0.7361 - val_loss: 0.1721 - val_accuracy: 0.7778 - lr: 0.0010\n",
            "Epoch 87/1000\n",
            "9/9 [==============================] - 1s 69ms/step - loss: 0.2053 - accuracy: 0.7639 - val_loss: 0.1919 - val_accuracy: 0.7222 - lr: 0.0010\n",
            "Epoch 88/1000\n",
            "9/9 [==============================] - 1s 59ms/step - loss: 0.1833 - accuracy: 0.7500 - val_loss: 0.2054 - val_accuracy: 0.7222 - lr: 0.0010\n",
            "Epoch 89/1000\n",
            "9/9 [==============================] - 1s 63ms/step - loss: 0.2105 - accuracy: 0.7014 - val_loss: 0.1923 - val_accuracy: 0.7222 - lr: 0.0010\n",
            "Epoch 90/1000\n",
            "9/9 [==============================] - 1s 62ms/step - loss: 0.1982 - accuracy: 0.7500 - val_loss: 0.1798 - val_accuracy: 0.7778 - lr: 0.0010\n",
            "Epoch 91/1000\n",
            "9/9 [==============================] - 1s 64ms/step - loss: 0.1949 - accuracy: 0.7639 - val_loss: 0.1804 - val_accuracy: 0.7778 - lr: 0.0010\n",
            "Epoch 92/1000\n",
            "9/9 [==============================] - 1s 61ms/step - loss: 0.1991 - accuracy: 0.7361 - val_loss: 0.1747 - val_accuracy: 0.7778 - lr: 0.0010\n",
            "Epoch 93/1000\n",
            "9/9 [==============================] - 1s 61ms/step - loss: 0.1964 - accuracy: 0.7708 - val_loss: 0.1718 - val_accuracy: 0.7778 - lr: 0.0010\n",
            "Epoch 94/1000\n",
            "9/9 [==============================] - 1s 60ms/step - loss: 0.1908 - accuracy: 0.7639 - val_loss: 0.1821 - val_accuracy: 0.7778 - lr: 0.0010\n",
            "Epoch 95/1000\n",
            "9/9 [==============================] - 1s 61ms/step - loss: 0.2075 - accuracy: 0.7708 - val_loss: 0.1912 - val_accuracy: 0.6667 - lr: 0.0010\n",
            "Epoch 96/1000\n",
            "9/9 [==============================] - 1s 63ms/step - loss: 0.2090 - accuracy: 0.7431 - val_loss: 0.1850 - val_accuracy: 0.7222 - lr: 0.0010\n",
            "Epoch 97/1000\n",
            "9/9 [==============================] - 1s 62ms/step - loss: 0.1987 - accuracy: 0.7708 - val_loss: 0.1976 - val_accuracy: 0.6667 - lr: 0.0010\n",
            "Epoch 98/1000\n",
            "9/9 [==============================] - 1s 63ms/step - loss: 0.1818 - accuracy: 0.7222 - val_loss: 0.1981 - val_accuracy: 0.6667 - lr: 0.0010\n",
            "Epoch 99/1000\n",
            "9/9 [==============================] - 1s 63ms/step - loss: 0.1816 - accuracy: 0.8125 - val_loss: 0.1863 - val_accuracy: 0.7222 - lr: 0.0010\n",
            "Epoch 100/1000\n",
            "9/9 [==============================] - 1s 63ms/step - loss: 0.1882 - accuracy: 0.7778 - val_loss: 0.1771 - val_accuracy: 0.7222 - lr: 0.0010\n",
            "Epoch 101/1000\n",
            "9/9 [==============================] - 1s 62ms/step - loss: 0.1965 - accuracy: 0.7569 - val_loss: 0.1811 - val_accuracy: 0.7222 - lr: 0.0010\n",
            "Epoch 102/1000\n",
            "9/9 [==============================] - 1s 60ms/step - loss: 0.1880 - accuracy: 0.7500 - val_loss: 0.1875 - val_accuracy: 0.6667 - lr: 0.0010\n",
            "Epoch 103/1000\n",
            "9/9 [==============================] - 1s 61ms/step - loss: 0.1894 - accuracy: 0.7569 - val_loss: 0.1815 - val_accuracy: 0.6667 - lr: 0.0010\n",
            "Epoch 104/1000\n",
            "9/9 [==============================] - 1s 61ms/step - loss: 0.2057 - accuracy: 0.7500 - val_loss: 0.1990 - val_accuracy: 0.7222 - lr: 0.0010\n",
            "Epoch 105/1000\n",
            "9/9 [==============================] - 1s 61ms/step - loss: 0.2036 - accuracy: 0.6944 - val_loss: 0.1817 - val_accuracy: 0.7222 - lr: 0.0010\n",
            "Epoch 106/1000\n",
            "9/9 [==============================] - 1s 60ms/step - loss: 0.1879 - accuracy: 0.7639 - val_loss: 0.1834 - val_accuracy: 0.7222 - lr: 0.0010\n",
            "Epoch 107/1000\n",
            "9/9 [==============================] - 1s 63ms/step - loss: 0.1941 - accuracy: 0.7292 - val_loss: 0.1866 - val_accuracy: 0.7222 - lr: 0.0010\n",
            "Epoch 108/1000\n",
            "9/9 [==============================] - 1s 65ms/step - loss: 0.1866 - accuracy: 0.7639 - val_loss: 0.1906 - val_accuracy: 0.6667 - lr: 0.0010\n",
            "Epoch 109/1000\n",
            "9/9 [==============================] - 1s 62ms/step - loss: 0.1927 - accuracy: 0.7431 - val_loss: 0.1898 - val_accuracy: 0.7778 - lr: 0.0010\n",
            "Epoch 110/1000\n",
            "9/9 [==============================] - 1s 62ms/step - loss: 0.1782 - accuracy: 0.7847 - val_loss: 0.1788 - val_accuracy: 0.7778 - lr: 0.0010\n",
            "Epoch 111/1000\n",
            "9/9 [==============================] - 1s 61ms/step - loss: 0.1807 - accuracy: 0.7500 - val_loss: 0.1700 - val_accuracy: 0.7778 - lr: 0.0010\n",
            "Epoch 112/1000\n",
            "9/9 [==============================] - 1s 63ms/step - loss: 0.1945 - accuracy: 0.7708 - val_loss: 0.1719 - val_accuracy: 0.7778 - lr: 0.0010\n",
            "Epoch 113/1000\n",
            "9/9 [==============================] - 1s 60ms/step - loss: 0.1786 - accuracy: 0.8333 - val_loss: 0.1715 - val_accuracy: 0.7778 - lr: 0.0010\n",
            "Epoch 114/1000\n",
            "9/9 [==============================] - 1s 63ms/step - loss: 0.1966 - accuracy: 0.7361 - val_loss: 0.1846 - val_accuracy: 0.6111 - lr: 0.0010\n",
            "Epoch 115/1000\n",
            "9/9 [==============================] - 1s 60ms/step - loss: 0.1713 - accuracy: 0.8056 - val_loss: 0.1687 - val_accuracy: 0.7222 - lr: 0.0010\n",
            "Epoch 116/1000\n",
            "9/9 [==============================] - 1s 65ms/step - loss: 0.2256 - accuracy: 0.6597 - val_loss: 0.1707 - val_accuracy: 0.7222 - lr: 0.0010\n",
            "Epoch 117/1000\n",
            "9/9 [==============================] - 1s 64ms/step - loss: 0.1803 - accuracy: 0.7639 - val_loss: 0.1622 - val_accuracy: 0.7222 - lr: 0.0010\n",
            "Epoch 118/1000\n",
            "9/9 [==============================] - 1s 61ms/step - loss: 0.1968 - accuracy: 0.7500 - val_loss: 0.1665 - val_accuracy: 0.7778 - lr: 0.0010\n",
            "Epoch 119/1000\n",
            "9/9 [==============================] - 1s 61ms/step - loss: 0.1893 - accuracy: 0.7708 - val_loss: 0.1750 - val_accuracy: 0.7222 - lr: 0.0010\n",
            "Epoch 120/1000\n",
            "9/9 [==============================] - 1s 59ms/step - loss: 0.1778 - accuracy: 0.7569 - val_loss: 0.1631 - val_accuracy: 0.7222 - lr: 0.0010\n",
            "Epoch 121/1000\n",
            "9/9 [==============================] - 1s 64ms/step - loss: 0.1818 - accuracy: 0.7708 - val_loss: 0.1674 - val_accuracy: 0.7778 - lr: 0.0010\n",
            "Epoch 122/1000\n",
            "9/9 [==============================] - 1s 60ms/step - loss: 0.1991 - accuracy: 0.7500 - val_loss: 0.1592 - val_accuracy: 0.7778 - lr: 0.0010\n",
            "Epoch 123/1000\n",
            "9/9 [==============================] - 1s 62ms/step - loss: 0.1719 - accuracy: 0.7917 - val_loss: 0.1690 - val_accuracy: 0.7778 - lr: 0.0010\n",
            "Epoch 124/1000\n",
            "9/9 [==============================] - 1s 58ms/step - loss: 0.1890 - accuracy: 0.7569 - val_loss: 0.1784 - val_accuracy: 0.7222 - lr: 0.0010\n",
            "Epoch 125/1000\n",
            "9/9 [==============================] - 1s 63ms/step - loss: 0.1830 - accuracy: 0.7778 - val_loss: 0.1583 - val_accuracy: 0.7778 - lr: 0.0010\n",
            "Epoch 126/1000\n",
            "9/9 [==============================] - 1s 63ms/step - loss: 0.1833 - accuracy: 0.7431 - val_loss: 0.1556 - val_accuracy: 0.7778 - lr: 0.0010\n",
            "Epoch 127/1000\n",
            "9/9 [==============================] - 1s 63ms/step - loss: 0.1741 - accuracy: 0.8125 - val_loss: 0.1738 - val_accuracy: 0.7222 - lr: 0.0010\n",
            "Epoch 128/1000\n",
            "9/9 [==============================] - 1s 61ms/step - loss: 0.1947 - accuracy: 0.7083 - val_loss: 0.1712 - val_accuracy: 0.7222 - lr: 0.0010\n",
            "Epoch 129/1000\n",
            "9/9 [==============================] - 1s 60ms/step - loss: 0.1811 - accuracy: 0.7847 - val_loss: 0.1590 - val_accuracy: 0.7778 - lr: 0.0010\n",
            "Epoch 130/1000\n",
            "9/9 [==============================] - 1s 62ms/step - loss: 0.1687 - accuracy: 0.8125 - val_loss: 0.1655 - val_accuracy: 0.7222 - lr: 0.0010\n",
            "Epoch 131/1000\n",
            "9/9 [==============================] - 1s 62ms/step - loss: 0.2039 - accuracy: 0.7014 - val_loss: 0.1615 - val_accuracy: 0.7222 - lr: 0.0010\n",
            "Epoch 132/1000\n",
            "9/9 [==============================] - 1s 63ms/step - loss: 0.1656 - accuracy: 0.7986 - val_loss: 0.1544 - val_accuracy: 0.7222 - lr: 0.0010\n",
            "Epoch 133/1000\n",
            "9/9 [==============================] - 1s 61ms/step - loss: 0.1900 - accuracy: 0.7500 - val_loss: 0.1735 - val_accuracy: 0.7222 - lr: 0.0010\n",
            "Epoch 134/1000\n",
            "9/9 [==============================] - 1s 62ms/step - loss: 0.1952 - accuracy: 0.7431 - val_loss: 0.1572 - val_accuracy: 0.7222 - lr: 0.0010\n",
            "Epoch 135/1000\n",
            "9/9 [==============================] - 1s 64ms/step - loss: 0.1757 - accuracy: 0.7500 - val_loss: 0.1537 - val_accuracy: 0.7222 - lr: 0.0010\n",
            "Epoch 136/1000\n",
            "9/9 [==============================] - 1s 61ms/step - loss: 0.1961 - accuracy: 0.7083 - val_loss: 0.1684 - val_accuracy: 0.7222 - lr: 0.0010\n",
            "Epoch 137/1000\n",
            "9/9 [==============================] - 1s 63ms/step - loss: 0.1763 - accuracy: 0.8125 - val_loss: 0.1598 - val_accuracy: 0.7778 - lr: 0.0010\n",
            "Epoch 138/1000\n",
            "9/9 [==============================] - 1s 68ms/step - loss: 0.1641 - accuracy: 0.8264 - val_loss: 0.1746 - val_accuracy: 0.7222 - lr: 0.0010\n",
            "Epoch 139/1000\n",
            "9/9 [==============================] - 1s 63ms/step - loss: 0.1620 - accuracy: 0.7917 - val_loss: 0.1795 - val_accuracy: 0.7778 - lr: 0.0010\n",
            "Epoch 140/1000\n",
            "9/9 [==============================] - 1s 63ms/step - loss: 0.1999 - accuracy: 0.7361 - val_loss: 0.1661 - val_accuracy: 0.7778 - lr: 0.0010\n",
            "Epoch 141/1000\n",
            "9/9 [==============================] - 1s 64ms/step - loss: 0.1815 - accuracy: 0.7500 - val_loss: 0.1586 - val_accuracy: 0.7778 - lr: 0.0010\n",
            "Epoch 142/1000\n",
            "9/9 [==============================] - 1s 64ms/step - loss: 0.1553 - accuracy: 0.8333 - val_loss: 0.1527 - val_accuracy: 0.7778 - lr: 0.0010\n",
            "Epoch 143/1000\n",
            "9/9 [==============================] - 1s 63ms/step - loss: 0.1710 - accuracy: 0.8194 - val_loss: 0.1471 - val_accuracy: 0.7778 - lr: 0.0010\n",
            "Epoch 144/1000\n",
            "9/9 [==============================] - 1s 64ms/step - loss: 0.1893 - accuracy: 0.7222 - val_loss: 0.1556 - val_accuracy: 0.7778 - lr: 0.0010\n",
            "Epoch 145/1000\n",
            "9/9 [==============================] - 1s 93ms/step - loss: 0.1777 - accuracy: 0.7431 - val_loss: 0.1559 - val_accuracy: 0.7778 - lr: 0.0010\n",
            "Epoch 146/1000\n",
            "9/9 [==============================] - 1s 62ms/step - loss: 0.1940 - accuracy: 0.7153 - val_loss: 0.1662 - val_accuracy: 0.7778 - lr: 0.0010\n",
            "Epoch 147/1000\n",
            "9/9 [==============================] - 1s 60ms/step - loss: 0.1735 - accuracy: 0.7708 - val_loss: 0.1500 - val_accuracy: 0.7778 - lr: 0.0010\n",
            "Epoch 148/1000\n",
            "9/9 [==============================] - 1s 63ms/step - loss: 0.1720 - accuracy: 0.8056 - val_loss: 0.1553 - val_accuracy: 0.7778 - lr: 0.0010\n",
            "Epoch 149/1000\n",
            "9/9 [==============================] - 1s 64ms/step - loss: 0.1629 - accuracy: 0.8194 - val_loss: 0.1722 - val_accuracy: 0.7222 - lr: 0.0010\n",
            "Epoch 150/1000\n",
            "9/9 [==============================] - 1s 61ms/step - loss: 0.1596 - accuracy: 0.7708 - val_loss: 0.1703 - val_accuracy: 0.7778 - lr: 0.0010\n",
            "Epoch 151/1000\n",
            "9/9 [==============================] - 1s 64ms/step - loss: 0.1699 - accuracy: 0.7778 - val_loss: 0.1719 - val_accuracy: 0.6667 - lr: 0.0010\n",
            "Epoch 152/1000\n",
            "9/9 [==============================] - 1s 61ms/step - loss: 0.1756 - accuracy: 0.8125 - val_loss: 0.1689 - val_accuracy: 0.6667 - lr: 0.0010\n",
            "Epoch 153/1000\n",
            "9/9 [==============================] - 1s 62ms/step - loss: 0.1725 - accuracy: 0.8056 - val_loss: 0.1689 - val_accuracy: 0.7222 - lr: 0.0010\n",
            "Epoch 154/1000\n",
            "9/9 [==============================] - 1s 65ms/step - loss: 0.1800 - accuracy: 0.7500 - val_loss: 0.1612 - val_accuracy: 0.7778 - lr: 0.0010\n",
            "Epoch 155/1000\n",
            "9/9 [==============================] - 1s 63ms/step - loss: 0.1754 - accuracy: 0.7639 - val_loss: 0.1583 - val_accuracy: 0.7778 - lr: 0.0010\n",
            "Epoch 156/1000\n",
            "9/9 [==============================] - 1s 63ms/step - loss: 0.1604 - accuracy: 0.7917 - val_loss: 0.1649 - val_accuracy: 0.7778 - lr: 0.0010\n",
            "Epoch 157/1000\n",
            "9/9 [==============================] - 1s 61ms/step - loss: 0.1593 - accuracy: 0.8333 - val_loss: 0.1778 - val_accuracy: 0.7778 - lr: 0.0010\n",
            "Epoch 158/1000\n",
            "9/9 [==============================] - 1s 65ms/step - loss: 0.1610 - accuracy: 0.8264 - val_loss: 0.1821 - val_accuracy: 0.6667 - lr: 0.0010\n",
            "Epoch 159/1000\n",
            "9/9 [==============================] - 1s 68ms/step - loss: 0.1650 - accuracy: 0.7847 - val_loss: 0.1765 - val_accuracy: 0.6667 - lr: 0.0010\n",
            "Epoch 160/1000\n",
            "9/9 [==============================] - 1s 64ms/step - loss: 0.1578 - accuracy: 0.8125 - val_loss: 0.1711 - val_accuracy: 0.7222 - lr: 0.0010\n",
            "Epoch 161/1000\n",
            "9/9 [==============================] - 1s 62ms/step - loss: 0.1693 - accuracy: 0.8056 - val_loss: 0.1718 - val_accuracy: 0.7222 - lr: 0.0010\n",
            "Epoch 162/1000\n",
            "9/9 [==============================] - 1s 64ms/step - loss: 0.1630 - accuracy: 0.7986 - val_loss: 0.1775 - val_accuracy: 0.6667 - lr: 0.0010\n",
            "Epoch 163/1000\n",
            "9/9 [==============================] - 1s 64ms/step - loss: 0.1971 - accuracy: 0.7292 - val_loss: 0.1761 - val_accuracy: 0.6667 - lr: 0.0010\n",
            "Epoch 164/1000\n",
            "9/9 [==============================] - 1s 62ms/step - loss: 0.1594 - accuracy: 0.7917 - val_loss: 0.1741 - val_accuracy: 0.7778 - lr: 0.0010\n",
            "Epoch 165/1000\n",
            "9/9 [==============================] - 1s 65ms/step - loss: 0.1805 - accuracy: 0.7361 - val_loss: 0.1548 - val_accuracy: 0.8333 - lr: 0.0010\n",
            "Epoch 166/1000\n",
            "9/9 [==============================] - 1s 64ms/step - loss: 0.1852 - accuracy: 0.7569 - val_loss: 0.1472 - val_accuracy: 0.8333 - lr: 0.0010\n",
            "Epoch 167/1000\n",
            "9/9 [==============================] - 1s 66ms/step - loss: 0.1695 - accuracy: 0.7639 - val_loss: 0.1475 - val_accuracy: 0.8333 - lr: 0.0010\n",
            "Epoch 168/1000\n",
            "9/9 [==============================] - 1s 64ms/step - loss: 0.1953 - accuracy: 0.7361 - val_loss: 0.1663 - val_accuracy: 0.7778 - lr: 0.0010\n",
            "Epoch 169/1000\n",
            "9/9 [==============================] - 1s 64ms/step - loss: 0.1862 - accuracy: 0.7500 - val_loss: 0.1622 - val_accuracy: 0.7778 - lr: 0.0010\n",
            "Epoch 170/1000\n",
            "9/9 [==============================] - 1s 59ms/step - loss: 0.1695 - accuracy: 0.7708 - val_loss: 0.1530 - val_accuracy: 0.8889 - lr: 0.0010\n",
            "Epoch 171/1000\n",
            "9/9 [==============================] - 1s 63ms/step - loss: 0.1622 - accuracy: 0.8125 - val_loss: 0.1512 - val_accuracy: 0.7778 - lr: 0.0010\n",
            "Epoch 172/1000\n",
            "9/9 [==============================] - 1s 60ms/step - loss: 0.1617 - accuracy: 0.8056 - val_loss: 0.1521 - val_accuracy: 0.7778 - lr: 0.0010\n",
            "Epoch 173/1000\n",
            "9/9 [==============================] - 1s 61ms/step - loss: 0.1454 - accuracy: 0.8542 - val_loss: 0.1469 - val_accuracy: 0.7778 - lr: 0.0010\n",
            "Epoch 174/1000\n",
            "9/9 [==============================] - 1s 62ms/step - loss: 0.1651 - accuracy: 0.7778 - val_loss: 0.1368 - val_accuracy: 0.8889 - lr: 0.0010\n",
            "Epoch 175/1000\n",
            "9/9 [==============================] - 1s 62ms/step - loss: 0.1528 - accuracy: 0.7986 - val_loss: 0.1573 - val_accuracy: 0.7778 - lr: 0.0010\n",
            "Epoch 176/1000\n",
            "9/9 [==============================] - 1s 63ms/step - loss: 0.1802 - accuracy: 0.7917 - val_loss: 0.1584 - val_accuracy: 0.7222 - lr: 0.0010\n",
            "Epoch 177/1000\n",
            "9/9 [==============================] - 1s 64ms/step - loss: 0.1699 - accuracy: 0.7847 - val_loss: 0.1525 - val_accuracy: 0.8333 - lr: 0.0010\n",
            "Epoch 178/1000\n",
            "9/9 [==============================] - 1s 63ms/step - loss: 0.1523 - accuracy: 0.7986 - val_loss: 0.1542 - val_accuracy: 0.7778 - lr: 0.0010\n",
            "Epoch 179/1000\n",
            "9/9 [==============================] - 1s 64ms/step - loss: 0.1550 - accuracy: 0.7917 - val_loss: 0.1525 - val_accuracy: 0.8333 - lr: 0.0010\n",
            "Epoch 180/1000\n",
            "9/9 [==============================] - 1s 63ms/step - loss: 0.1767 - accuracy: 0.7639 - val_loss: 0.1418 - val_accuracy: 0.7778 - lr: 0.0010\n",
            "Epoch 181/1000\n",
            "9/9 [==============================] - 1s 65ms/step - loss: 0.1575 - accuracy: 0.7778 - val_loss: 0.1435 - val_accuracy: 0.8333 - lr: 0.0010\n",
            "Epoch 182/1000\n",
            "9/9 [==============================] - 1s 64ms/step - loss: 0.1747 - accuracy: 0.7778 - val_loss: 0.1707 - val_accuracy: 0.7778 - lr: 0.0010\n",
            "Epoch 183/1000\n",
            "9/9 [==============================] - 1s 62ms/step - loss: 0.1641 - accuracy: 0.8194 - val_loss: 0.1863 - val_accuracy: 0.6667 - lr: 0.0010\n",
            "Epoch 184/1000\n",
            "9/9 [==============================] - 1s 63ms/step - loss: 0.1863 - accuracy: 0.7569 - val_loss: 0.1600 - val_accuracy: 0.7222 - lr: 0.0010\n",
            "Epoch 185/1000\n",
            "9/9 [==============================] - 1s 64ms/step - loss: 0.1684 - accuracy: 0.7639 - val_loss: 0.1507 - val_accuracy: 0.7778 - lr: 0.0010\n",
            "Epoch 186/1000\n",
            "9/9 [==============================] - 1s 62ms/step - loss: 0.1653 - accuracy: 0.7986 - val_loss: 0.1440 - val_accuracy: 0.8889 - lr: 0.0010\n",
            "Epoch 187/1000\n",
            "9/9 [==============================] - 1s 62ms/step - loss: 0.1720 - accuracy: 0.7639 - val_loss: 0.1553 - val_accuracy: 0.7222 - lr: 0.0010\n",
            "Epoch 188/1000\n",
            "9/9 [==============================] - 1s 66ms/step - loss: 0.1555 - accuracy: 0.8056 - val_loss: 0.1550 - val_accuracy: 0.7222 - lr: 0.0010\n",
            "Epoch 189/1000\n",
            "9/9 [==============================] - 1s 64ms/step - loss: 0.1687 - accuracy: 0.7917 - val_loss: 0.1377 - val_accuracy: 0.8333 - lr: 0.0010\n",
            "Epoch 190/1000\n",
            "9/9 [==============================] - 1s 65ms/step - loss: 0.1865 - accuracy: 0.7569 - val_loss: 0.1407 - val_accuracy: 0.7778 - lr: 0.0010\n",
            "Epoch 191/1000\n",
            "9/9 [==============================] - 1s 64ms/step - loss: 0.1702 - accuracy: 0.7500 - val_loss: 0.1600 - val_accuracy: 0.7778 - lr: 0.0010\n",
            "Epoch 192/1000\n",
            "9/9 [==============================] - 1s 63ms/step - loss: 0.1554 - accuracy: 0.8264 - val_loss: 0.1715 - val_accuracy: 0.6667 - lr: 0.0010\n",
            "Epoch 193/1000\n",
            "9/9 [==============================] - 1s 65ms/step - loss: 0.1715 - accuracy: 0.7639 - val_loss: 0.1590 - val_accuracy: 0.6667 - lr: 0.0010\n",
            "Epoch 194/1000\n",
            "9/9 [==============================] - 1s 62ms/step - loss: 0.1679 - accuracy: 0.7847 - val_loss: 0.1542 - val_accuracy: 0.8889 - lr: 0.0010\n",
            "Epoch 195/1000\n",
            "9/9 [==============================] - 1s 64ms/step - loss: 0.1624 - accuracy: 0.8333 - val_loss: 0.1495 - val_accuracy: 0.7778 - lr: 0.0010\n",
            "Epoch 196/1000\n",
            "9/9 [==============================] - 1s 63ms/step - loss: 0.1761 - accuracy: 0.8125 - val_loss: 0.1669 - val_accuracy: 0.6667 - lr: 0.0010\n",
            "Epoch 197/1000\n",
            "9/9 [==============================] - 1s 94ms/step - loss: 0.1561 - accuracy: 0.7708 - val_loss: 0.1570 - val_accuracy: 0.6667 - lr: 0.0010\n",
            "Epoch 198/1000\n",
            "9/9 [==============================] - 1s 94ms/step - loss: 0.1743 - accuracy: 0.7708 - val_loss: 0.1739 - val_accuracy: 0.7222 - lr: 0.0010\n",
            "Epoch 199/1000\n",
            "9/9 [==============================] - 1s 65ms/step - loss: 0.1856 - accuracy: 0.7431 - val_loss: 0.1717 - val_accuracy: 0.7222 - lr: 0.0010\n",
            "Epoch 200/1000\n",
            "9/9 [==============================] - 1s 64ms/step - loss: 0.1911 - accuracy: 0.7639 - val_loss: 0.1466 - val_accuracy: 0.8333 - lr: 0.0010\n",
            "Epoch 201/1000\n",
            "9/9 [==============================] - 1s 67ms/step - loss: 0.1624 - accuracy: 0.7986 - val_loss: 0.1461 - val_accuracy: 0.8889 - lr: 0.0010\n",
            "Epoch 202/1000\n",
            "9/9 [==============================] - 1s 61ms/step - loss: 0.1538 - accuracy: 0.8056 - val_loss: 0.1437 - val_accuracy: 0.8333 - lr: 0.0010\n",
            "Epoch 203/1000\n",
            "9/9 [==============================] - 1s 62ms/step - loss: 0.1591 - accuracy: 0.8194 - val_loss: 0.1692 - val_accuracy: 0.6667 - lr: 0.0010\n",
            "Epoch 204/1000\n",
            "9/9 [==============================] - 1s 61ms/step - loss: 0.1617 - accuracy: 0.7847 - val_loss: 0.1505 - val_accuracy: 0.7778 - lr: 0.0010\n",
            "Epoch 204: early stopping\n",
            "Training completed in time:  0:03:26.803048\n"
          ]
        }
      ]
    },
    {
      "cell_type": "code",
      "source": [
        "import numpy as np\n",
        "import matplotlib.pyplot as plt"
      ],
      "metadata": {
        "id": "uTeZJeaQYARr"
      },
      "execution_count": 17,
      "outputs": []
    },
    {
      "cell_type": "code",
      "source": [
        "print('Acurácia em treinamento: ', str(np.max(history.history['accuracy'])))  # Valor mais alto da acurácia no conjunto de treinamento"
      ],
      "metadata": {
        "colab": {
          "base_uri": "https://localhost:8080/"
        },
        "id": "jCQRg3mVWBo3",
        "outputId": "7982667b-01fc-4728-864a-a5f428ca7ba1"
      },
      "execution_count": 21,
      "outputs": [
        {
          "output_type": "stream",
          "name": "stdout",
          "text": [
            "Acurácia em treinamento:  0.8541666865348816\n"
          ]
        }
      ]
    },
    {
      "cell_type": "code",
      "source": [
        "print(\"Avaliação da acurácia geral na base de validação\")\n",
        "scores = modelMobileNET.evaluate(validation_set, verbose=0)\n",
        "print(\"%s: %.2f%%\" % (modelMobileNET.metrics_names[1], scores[1]*100))"
      ],
      "metadata": {
        "colab": {
          "base_uri": "https://localhost:8080/"
        },
        "id": "svl60PATXmMx",
        "outputId": "227e7f2f-1b5b-4b61-818c-6468a97b3c1f"
      },
      "execution_count": 19,
      "outputs": [
        {
          "output_type": "stream",
          "name": "stdout",
          "text": [
            "Avaliação da acurácia geral na base de validação\n",
            "accuracy: 77.78%\n"
          ]
        }
      ]
    },
    {
      "cell_type": "code",
      "source": [
        "# Plot com valores de treinamento e validação\n",
        "plt.figure(figsize=(20,7))\n",
        "plt.subplot(1,2,1)\n",
        "plt.plot(history.history['accuracy'])\n",
        "plt.plot(history.history['val_accuracy'])\n",
        "plt.title('Model accuracy')\n",
        "plt.ylabel('Acurácia')\n",
        "plt.legend(['Train', 'Val'], loc='upper left')\n",
        "plt.subplot(1,2,2)\n",
        "plt.plot(history.history['loss'])\n",
        "plt.plot(history.history['val_loss'])\n",
        "plt.title('Model Loss')\n",
        "plt.ylabel('Loss')\n",
        "plt.xlabel('Epoch')\n",
        "plt.legend(['Train', 'Val'], loc='upper left')\n"
      ],
      "metadata": {
        "colab": {
          "base_uri": "https://localhost:8080/",
          "height": 476
        },
        "id": "dLG2afhtXrk1",
        "outputId": "1ee17992-9a78-41f2-efb8-b1f2d6424af0"
      },
      "execution_count": 20,
      "outputs": [
        {
          "output_type": "execute_result",
          "data": {
            "text/plain": [
              "<matplotlib.legend.Legend at 0x7f367a0a7e50>"
            ]
          },
          "metadata": {},
          "execution_count": 20
        },
        {
          "output_type": "display_data",
          "data": {
            "text/plain": [
              "<Figure size 1440x504 with 2 Axes>"
            ],
            "image/png": "[encoded data removed]"
          },
          "metadata": {
            "needs_background": "light"
          }
        }
      ]
    },
    {
      "cell_type": "markdown",
      "source": [
        "Após treinamento, o modelo treinado foi salvo em dois arquivos:\n",
        "\n",
        "> arquivo no formato **.json** usado para carregar a rede neural convolucional \\\n",
        "> arquivo no formato **.h5** usado para carregar os pesos treinados da rede"
      ],
      "metadata": {
        "id": "Gl8IXf1O_TGS"
      }
    },
    {
      "cell_type": "code",
      "source": [
        "# serialize model to JSON\n",
        "model_json = modelMobileNET.to_json()\n",
        "with open(\"./modelos/reconhecimento-cores.json\", \"w\") as json_file:\n",
        "    json_file.write(model_json)\n",
        "## serialize weights to HDF5\n",
        "modelMobileNET.save_weights(\"./modelos/reconhecimento-cores.h5\")\n",
        "print(\"Saved model to disk\")"
      ],
      "metadata": {
        "id": "0wycxSYJYL7T",
        "colab": {
          "base_uri": "https://localhost:8080/"
        },
        "outputId": "caf3b5b6-d8ac-47d1-80b8-eb0d5eb66ef7"
      },
      "execution_count": 24,
      "outputs": [
        {
          "output_type": "stream",
          "name": "stdout",
          "text": [
            "Saved model to disk\n"
          ]
        }
      ]
    },
    {
      "cell_type": "markdown",
      "metadata": {
        "id": "kx0lbD1N-GIB"
      },
      "source": [
        "## Fazendo Previsões"
      ]
    },
    {
      "cell_type": "raw",
      "metadata": {
        "id": "XDNB5kns-GIB"
      },
      "source": [
        "Vamos agora testar nosso modelo treinado com imagens que ele ainda não viu e que estão nos dados de teste.\n",
        "\n",
        "Para cada imagem de teste, carregamos as imagens com as mesmas dimensões usadas nas imagens de treino. Na sequência convertemos as imagens em um array e expandimos as dimensões. Então apresentamos as imagens ao classificador treinado nos passos anteriores."
      ]
    },
    {
      "cell_type": "code",
      "source": [
        ""
      ],
      "metadata": {
        "id": "48mMGECtMlXB"
      },
      "execution_count": null,
      "outputs": []
    },
    {
      "cell_type": "markdown",
      "source": [
        "O primeiro passo é carregar o dataset de testes da mesma forma que foram carregados os dadtasets de treinamento e validação. "
      ],
      "metadata": {
        "id": "0sPUbAjcMlyn"
      }
    },
    {
      "cell_type": "code",
      "source": [
        "# Pré-processamento das imagens de testes\n",
        "teste_set = train_datagen.flow_from_directory('dataset/teste',\n",
        "                                                 target_size = (64, 64),\n",
        "                                                 batch_size = 16,\n",
        "                                                 class_mode = 'categorical')"
      ],
      "metadata": {
        "colab": {
          "base_uri": "https://localhost:8080/"
        },
        "id": "ljmPFLHEAUX0",
        "outputId": "8180a427-a57f-463a-953c-1ddcd6325da9"
      },
      "execution_count": 33,
      "outputs": [
        {
          "output_type": "stream",
          "name": "stdout",
          "text": [
            "Found 18 images belonging to 6 classes.\n"
          ]
        }
      ]
    },
    {
      "cell_type": "markdown",
      "source": [
        "Já que há 18 imagens na base de testes, uma para cada classe, então o processo de classificação deve ser automatizado. Assim será possível obter métricas de avaliação do modelo para todas as amostras (imagens) do dataset. Para isso, foi criada a função classificar_imagens_teste.\n",
        "\n",
        "Após definir a função, a mesma é aplicada ao dataset de teste"
      ],
      "metadata": {
        "id": "p7NsnYy6M216"
      }
    },
    {
      "cell_type": "code",
      "source": [
        "def classificar_imagens_teste(diretorio_arquivos, datagen_de_teste):\n",
        "  classificacao = []\n",
        "  for i,j in zip(datagen_de_teste.filenames,datagen_de_teste.classes):\n",
        "    img = mpimg.imread(str(diretorio_arquivos)+'/'+str(i))\n",
        "    img = cv2.resize(img, (64,64))\n",
        "    test_image = np.expand_dims(img, axis = 0)\n",
        "    test_image = test_image[:,:,:,0:3]\n",
        "    result = modelMobileNET.predict(test_image)\n",
        "    classificacao.append(np.argmax(result))\n",
        "  return classificacao"
      ],
      "metadata": {
        "id": "2gNMKOIUFUb9"
      },
      "execution_count": 107,
      "outputs": []
    },
    {
      "cell_type": "code",
      "source": [
        "classificacao = classificar_imagens_teste('dataset/teste',teste_set)"
      ],
      "metadata": {
        "id": "j0URxO0lHOJw"
      },
      "execution_count": 108,
      "outputs": []
    },
    {
      "cell_type": "markdown",
      "source": [
        "Para avaliar o desempenho do modelo no dataset de testes, foi adotada como métrica geral a acurácia. Também foi plotada a matriz de confusão que mostra a relação entre o que é esperado e o que foi predito para cada classe.  "
      ],
      "metadata": {
        "id": "j-tCbgrqOR9f"
      }
    },
    {
      "cell_type": "code",
      "source": [
        "from sklearn.metrics import classification_report\n",
        "from sklearn import metrics\n",
        "\n",
        "import warnings\n",
        "warnings.filterwarnings(\"ignore\")"
      ],
      "metadata": {
        "id": "dBIgq7ElILve"
      },
      "execution_count": 119,
      "outputs": []
    },
    {
      "cell_type": "code",
      "source": [
        "print(\"Acurácia do modelo em TESTE: \", metrics.accuracy_score(teste_set.classes, classificacao)*100, \"%\")"
      ],
      "metadata": {
        "colab": {
          "base_uri": "https://localhost:8080/"
        },
        "id": "UVLrBhGQIU7W",
        "outputId": "a88aaa1d-bfd2-4443-c341-df8827e85aa6"
      },
      "execution_count": 117,
      "outputs": [
        {
          "output_type": "stream",
          "name": "stdout",
          "text": [
            "Acurácia do modelo em TESTE:  83.33333333333334 %\n"
          ]
        }
      ]
    },
    {
      "cell_type": "code",
      "source": [
        "from sklearn.metrics import confusion_matrix\n",
        "import seaborn as sn\n",
        "from mlxtend.plotting import plot_confusion_matrix\n",
        "cm = confusion_matrix(teste_set.classes, classificacao)\n",
        "fig, ax = plot_confusion_matrix(conf_mat=cm ,  figsize=(5, 5))\n",
        "plt.show()"
      ],
      "metadata": {
        "colab": {
          "base_uri": "https://localhost:8080/",
          "height": 334
        },
        "id": "NPmSbMFEJZiO",
        "outputId": "22577222-1d72-4367-c845-0b62ad699b0f"
      },
      "execution_count": 122,
      "outputs": [
        {
          "output_type": "display_data",
          "data": {
            "text/plain": [
              "<Figure size 360x360 with 1 Axes>"
            ],
            "image/png": "[encoded data removed]"
          },
          "metadata": {
            "needs_background": "light"
          }
        }
      ]
    },
    {
      "cell_type": "markdown",
      "source": [
        "Percebe-se, na matriz de confusão, que o modelo obteve ótimos resultados para todas classes, exceto para a classe 3, que corresponde ao rótulo 36mg/dL. \n",
        "\n",
        "Para esses casos é possível analisar as imagens indivisualmente e avaliar o comportamento do modelo em cada imagem. "
      ],
      "metadata": {
        "id": "l82ZgL0_PJGt"
      }
    },
    {
      "cell_type": "code",
      "source": [
        "import numpy as np\n",
        "import matplotlib.pyplot as plt\n",
        "import matplotlib.image as mpimg\n",
        "import cv2"
      ],
      "metadata": {
        "id": "aA0CIulaQLcF"
      },
      "execution_count": 142,
      "outputs": []
    },
    {
      "cell_type": "code",
      "source": [
        "# Imagem 01 da classe '36mg/dL' \n",
        "\n",
        "img = mpimg.imread('dataset/teste/36/A05.png')\n",
        "img = cv2.resize(img, (64,64))\n",
        "test_image = np.expand_dims(img, axis = 0)\n",
        "test_image = test_image[:,:,:,0:3]\n",
        "result = modelMobileNET.predict(test_image)\n",
        "classificacao = np.argmax(result)\n",
        "if classificacao == 0:\n",
        "  prediction = ' 0mg/dL'\n",
        "elif classificacao == 1:\n",
        "  prediction = '12mg/dL'\n",
        "elif classificacao == 2:\n",
        "  prediction = '24mg/dL'\n",
        "elif classificacao == 3:\n",
        "  prediction = '36mg/dL'\n",
        "elif classificacao == 4:\n",
        "  prediction = '48mg/dL'\n",
        "elif classificacao == 5:\n",
        "  prediction = '60mg/dL'\n",
        "print('Classificação: '+str(prediction)+' - com '+str(np.round(result[0][classificacao]*100, decimals=2))+'% de acurácia')\n",
        "print('valores obtidos para cada classe: '+str(np.round(result[0]*100)))"
      ],
      "metadata": {
        "colab": {
          "base_uri": "https://localhost:8080/"
        },
        "id": "lOArNFZ6FQEh",
        "outputId": "0c366239-5390-4182-f455-36ce5d387b29"
      },
      "execution_count": 159,
      "outputs": [
        {
          "output_type": "stream",
          "name": "stdout",
          "text": [
            "Classificação: 48mg/dL - com 59.61% de acurácia\n",
            "valores obtidos para cada classe: [ 0.  0.  0. 40. 60.  1.]\n"
          ]
        }
      ]
    },
    {
      "cell_type": "code",
      "source": [
        "# Imagem 02 da classe '36mg/dL' \n",
        "img = mpimg.imread('dataset/teste/36/A17.png')\n",
        "img = cv2.resize(img, (64,64))\n",
        "test_image = np.expand_dims(img, axis = 0)\n",
        "test_image = test_image[:,:,:,0:3]\n",
        "result = modelMobileNET.predict(test_image)\n",
        "classificacao = np.argmax(result)\n",
        "if classificacao == 0:\n",
        "  prediction = ' 0mg/dL'\n",
        "elif classificacao == 1:\n",
        "  prediction = '12mg/dL'\n",
        "elif classificacao == 2:\n",
        "  prediction = '24mg/dL'\n",
        "elif classificacao == 3:\n",
        "  prediction = '36mg/dL'\n",
        "elif classificacao == 4:\n",
        "  prediction = '48mg/dL'\n",
        "elif classificacao == 5:\n",
        "  prediction = '60mg/dL'\n",
        "print('Classificação: '+str(prediction)+' - com '+str(np.round(result[0][classificacao]*100, decimals=2))+'% de acurácia')\n",
        "print('valores obtidos para cada classe: '+str(np.round(result[0]*100)))"
      ],
      "metadata": {
        "colab": {
          "base_uri": "https://localhost:8080/"
        },
        "id": "dXfpHNqxPz-e",
        "outputId": "91a67cf6-a321-4762-bdf2-3667f392011e"
      },
      "execution_count": 160,
      "outputs": [
        {
          "output_type": "stream",
          "name": "stdout",
          "text": [
            "Classificação: 48mg/dL - com 51.28% de acurácia\n",
            "valores obtidos para cada classe: [ 0.  0.  0. 45. 51.  4.]\n"
          ]
        }
      ]
    },
    {
      "cell_type": "code",
      "source": [
        "# Imagem 03 da classe '36mg/dL' \n",
        "import numpy as np\n",
        "#from keras.preprocessing import image\n",
        "import matplotlib.pyplot as plt\n",
        "import matplotlib.image as mpimg\n",
        "import cv2\n",
        "\n",
        "img = mpimg.imread('dataset/teste/36/A25.png')\n",
        "img = cv2.resize(img, (64,64))\n",
        "test_image = np.expand_dims(img, axis = 0)\n",
        "test_image = test_image[:,:,:,0:3]\n",
        "result = modelMobileNET.predict(test_image)\n",
        "#classificacao = np.round(result, decimals=2)\n",
        "classificacao = np.argmax(result)\n",
        "if classificacao == 0:\n",
        "  prediction = ' 0mg/dL'\n",
        "elif classificacao == 1:\n",
        "  prediction = '12mg/dL'\n",
        "elif classificacao == 2:\n",
        "  prediction = '24mg/dL'\n",
        "elif classificacao == 3:\n",
        "  prediction = '36mg/dL'\n",
        "elif classificacao == 4:\n",
        "  prediction = '48mg/dL'\n",
        "elif classificacao == 5:\n",
        "  prediction = '60mg/dL'\n",
        "print('Classificação: '+str(prediction)+' - com '+str(np.round(result[0][classificacao]*100, decimals=2))+'% de acurácia')\n",
        "print('valores obtidos para cada classe: '+str(np.round(result[0]*100)))"
      ],
      "metadata": {
        "colab": {
          "base_uri": "https://localhost:8080/"
        },
        "id": "pYudQ3pHP00_",
        "outputId": "12d69a7e-0283-4915-c46a-b3ab47b8cb3a"
      },
      "execution_count": 164,
      "outputs": [
        {
          "output_type": "stream",
          "name": "stdout",
          "text": [
            "Classificação: 48mg/dL - com 52.32% de acurácia\n",
            "valores obtidos para cada classe: [ 0.  0.  0. 47. 52.  1.]\n"
          ]
        }
      ]
    },
    {
      "cell_type": "markdown",
      "source": [
        "**IMPRESSÕES FINAIS:**\n",
        "\n",
        "Conforme observado nos resultados, o classificador obteve:\n",
        "\n",
        "*   ótimo desempenho para caracterizar os padrões das classes 0 mg/dL, 12mg/dL, e 24mg/dL;\n",
        "*   bons resultados nas classes 48mg/dL e 48mg/dL;\n",
        "*   dificuldade para classificar imagens da classe 36mg/dL.\n"
      ],
      "metadata": {
        "id": "DhM6KMFuRz2e"
      }
    }
  ],
  "metadata": {
    "kernelspec": {
      "display_name": "Python 3",
      "language": "python",
      "name": "python3"
    },
    "language_info": {
      "codemirror_mode": {
        "name": "ipython",
        "version": 3
      },
      "file_extension": ".py",
      "mimetype": "text/x-python",
      "name": "python",
      "nbconvert_exporter": "python",
      "pygments_lexer": "ipython3",
      "version": "3.8.8"
    },
    "colab": {
      "name": "reconhecimento-cores-redes-neurais-convolucionais.ipynb",
      "provenance": [],
      "collapsed_sections": [
        "raUxuwI_-GH0"
      ],
      "include_colab_link": true
    },
    "accelerator": "GPU"
  },
  "nbformat": 4,
  "nbformat_minor": 0
}